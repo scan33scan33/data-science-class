{
  "nbformat": 4,
  "nbformat_minor": 0,
  "metadata": {
    "colab": {
      "name": "Example 0 Tables and Numbers.ipynb",
      "provenance": [],
      "collapsed_sections": [],
      "include_colab_link": true
    },
    "kernelspec": {
      "display_name": "Python 3",
      "language": "python",
      "name": "python3"
    }
  },
  "cells": [
    {
      "cell_type": "markdown",
      "metadata": {
        "id": "view-in-github",
        "colab_type": "text"
      },
      "source": [
        "<a href=\"https://colab.research.google.com/github/scan33scan33/data-science-class/blob/master/colabs/Example_0_Tables_and_Numbers.ipynb\" target=\"_parent\"><img src=\"https://colab.research.google.com/assets/colab-badge.svg\" alt=\"Open In Colab\"/></a>"
      ]
    },
    {
      "cell_type": "code",
      "metadata": {
        "id": "BUOzdPtldvki",
        "colab_type": "code",
        "colab": {
          "base_uri": "https://localhost:8080/",
          "height": 68
        },
        "outputId": "0b28a8e5-f292-48be-e3d4-4c5a1a085379"
      },
      "source": [
        "# Python 0-d ~ 4-d arrays\n",
        "table_0d = 0\n",
        "table_1d = [0]\n",
        "table_2d = [[0]]\n",
        "table_3d = [[[0]]]\n",
        "table_4d = [[[[0]]]]\n",
        "\n",
        "print(table_0d)\n",
        "print(table_1d)\n",
        "print(table_2d)\n"
      ],
      "execution_count": 1,
      "outputs": [
        {
          "output_type": "stream",
          "text": [
            "0\n",
            "[0]\n",
            "[[0]]\n"
          ],
          "name": "stdout"
        }
      ]
    },
    {
      "cell_type": "code",
      "metadata": {
        "id": "LkGkLMBVdvkr",
        "colab_type": "code",
        "colab": {}
      },
      "source": [
        "# Commonly seen tables\n",
        "list_of_1d_examples = [[1, 1], [0, 0], [1, 0]] # e.g. examples of vectorized features.\n",
        "list_of_2d_examples = [[[0, 2], [1, 0]], [[1, 1], [1, 1]]] # e.g. examples of grey-scale images\n",
        "# ... this applies to higher dimensions."
      ],
      "execution_count": 2,
      "outputs": []
    },
    {
      "cell_type": "code",
      "metadata": {
        "id": "JoJpC-7gdvkx",
        "colab_type": "code",
        "colab": {
          "base_uri": "https://localhost:8080/",
          "height": 119
        },
        "outputId": "378c5e5e-a501-4b4a-e5aa-46ba7e516ac1"
      },
      "source": [
        "# Convert to numpy arrays\n",
        "import numpy as np\n",
        "array_of_1d_examples = np.array(list_of_1d_examples)\n",
        "array_of_2d_examples = np.array(list_of_2d_examples)\n",
        "print(list_of_2d_examples)\n",
        "print(array_of_2d_examples)"
      ],
      "execution_count": 3,
      "outputs": [
        {
          "output_type": "stream",
          "text": [
            "[[[0, 2], [1, 0]], [[1, 1], [1, 1]]]\n",
            "[[[0 2]\n",
            "  [1 0]]\n",
            "\n",
            " [[1 1]\n",
            "  [1 1]]]\n"
          ],
          "name": "stdout"
        }
      ]
    },
    {
      "cell_type": "code",
      "metadata": {
        "id": "p9flA59ldvk7",
        "colab_type": "code",
        "colab": {
          "base_uri": "https://localhost:8080/",
          "height": 374
        },
        "outputId": "a306b990-c59b-4c88-c052-8a7993342ba1"
      },
      "source": [
        "### Some useful numpy array operations...\n",
        "# Slicing features.\n",
        "print ('original:\\n', array_of_2d_examples[:])\n",
        "print ('first example:\\n', array_of_2d_examples[0])\n",
        "print ('a row of the first example:\\n', array_of_2d_examples[0, 0, :])\n",
        "print ('a row of the first example:\\n', array_of_2d_examples[0, -1, :])\n",
        "print ('rows of the first example:\\n', array_of_2d_examples[0, [0, 1], :])\n",
        "print ('a column of the first example:\\n', array_of_2d_examples[0, :, 0])"
      ],
      "execution_count": 15,
      "outputs": [
        {
          "output_type": "stream",
          "text": [
            "original:\n",
            " [[[ 1  2  3  4]\n",
            "  [ 5  6  7  8]\n",
            "  [ 9 10 11 12]]\n",
            "\n",
            " [[11 12 13 14]\n",
            "  [15 16 17 18]\n",
            "  [19 20 21 22]]]\n",
            "first example:\n",
            " [[ 1  2  3  4]\n",
            " [ 5  6  7  8]\n",
            " [ 9 10 11 12]]\n",
            "a row(*) of the first example:\n",
            " [1 2 3 4]\n",
            "a row(*) of the first example:\n",
            " [ 9 10 11 12]\n",
            "a row(*) of the first example:\n",
            " [[1 2 3 4]\n",
            " [5 6 7 8]]\n",
            "a column(*) of the first example:\n",
            " [1 5 9]\n"
          ],
          "name": "stdout"
        }
      ]
    },
    {
      "cell_type": "code",
      "metadata": {
        "id": "adB27YVNdvlD",
        "colab_type": "code",
        "colab": {
          "base_uri": "https://localhost:8080/",
          "height": 204
        },
        "outputId": "797fa805-dba0-4d3e-bf9a-5327ffe12176"
      },
      "source": [
        "# Concatenations\n",
        "\n",
        "print(array_of_1d_examples)\n",
        "# np.hstack([array_of_1d_examples, [[0, 1]]])\n",
        "print(np.concatenate([array_of_1d_examples, [[0, 1]], [[2, 1]]], axis=0))\n",
        "# np.vstack\n",
        "print(np.concatenate([array_of_1d_examples, [[4], [5], [6] ]], axis=1))\n",
        "\n",
        "# A\n",
        "# [[1 1]\n",
        "# [0 0]\n",
        "# [1 0]]\n",
        "# B\n",
        "# [[4]\n",
        "#  [5]\n",
        "#  [6]]\n",
        "\n",
        "# concat([A B], axis=1)\n",
        "# [ [1, 1] + [4],\n",
        "# [ [0, 0] + [5],\n",
        "# ..."
      ],
      "execution_count": 5,
      "outputs": [
        {
          "output_type": "stream",
          "text": [
            "[[1 1]\n",
            " [0 0]\n",
            " [1 0]]\n",
            "[[1 1]\n",
            " [0 0]\n",
            " [1 0]\n",
            " [0 1]\n",
            " [2 1]]\n",
            "[[1 1 4]\n",
            " [0 0 5]\n",
            " [1 0 6]]\n"
          ],
          "name": "stdout"
        }
      ]
    },
    {
      "cell_type": "code",
      "metadata": {
        "id": "RTZpjODg4dMo",
        "colab_type": "code",
        "colab": {
          "base_uri": "https://localhost:8080/",
          "height": 85
        },
        "outputId": "7d4b1e9f-7744-412d-97a1-215634165574"
      },
      "source": [
        "# reshaping\n",
        "import numpy as np\n",
        "a = np.array([1, 2, 3])\n",
        "print(a.reshape(3, 1))\n",
        "print(a.reshape(-1, 1, 3))"
      ],
      "execution_count": 6,
      "outputs": [
        {
          "output_type": "stream",
          "text": [
            "[[1]\n",
            " [2]\n",
            " [3]]\n",
            "[[[1 2 3]]]\n"
          ],
          "name": "stdout"
        }
      ]
    },
    {
      "cell_type": "code",
      "metadata": {
        "id": "jEoGX46gdvlL",
        "colab_type": "code",
        "colab": {
          "base_uri": "https://localhost:8080/",
          "height": 136
        },
        "outputId": "c63e8a0e-af24-4f96-9b23-081047e63186"
      },
      "source": [
        "# Reshape high-dimension arrays to low-dimension arrays\n",
        "print(array_of_2d_examples)\n",
        "print(array_of_2d_examples.reshape(2, 4))"
      ],
      "execution_count": 7,
      "outputs": [
        {
          "output_type": "stream",
          "text": [
            "[[[0 2]\n",
            "  [1 0]]\n",
            "\n",
            " [[1 1]\n",
            "  [1 1]]]\n",
            "[[0 2 1 0]\n",
            " [1 1 1 1]]\n"
          ],
          "name": "stdout"
        }
      ]
    },
    {
      "cell_type": "code",
      "metadata": {
        "id": "vLT4rH7ldvlT",
        "colab_type": "code",
        "colab": {
          "base_uri": "https://localhost:8080/",
          "height": 221
        },
        "outputId": "4691bcd5-e6b5-484b-f0e4-ffe6d52cc62f"
      },
      "source": [
        "# array-vs-array and array-vs-number operations.\n",
        "print(array_of_1d_examples + 100)\n",
        "# array_of_1d_examples = array_of_1d_examples + 100\n",
        "print(array_of_1d_examples)\n",
        "print(array_of_1d_examples / [[2], [0.0000000001], [1]])\n",
        "print(array_of_1d_examples + array_of_1d_examples)\n",
        "\n"
      ],
      "execution_count": 8,
      "outputs": [
        {
          "output_type": "stream",
          "text": [
            "[[101 101]\n",
            " [100 100]\n",
            " [101 100]]\n",
            "[[1 1]\n",
            " [0 0]\n",
            " [1 0]]\n",
            "[[0.5 0.5]\n",
            " [0.  0. ]\n",
            " [1.  0. ]]\n",
            "[[2 2]\n",
            " [0 0]\n",
            " [2 0]]\n"
          ],
          "name": "stdout"
        }
      ]
    },
    {
      "cell_type": "code",
      "metadata": {
        "id": "Vg8F2cvlYkG4",
        "colab_type": "code",
        "colab": {
          "base_uri": "https://localhost:8080/",
          "height": 187
        },
        "outputId": "e0bbec44-170c-42f0-dace-ca3964f4162f"
      },
      "source": [
        "print(array_of_2d_examples)\n",
        "# print(array_of_2d_examples / [[2], [3]])\n",
        "print(array_of_2d_examples / [[[2], [3]], [[4], [5]]])"
      ],
      "execution_count": 9,
      "outputs": [
        {
          "output_type": "stream",
          "text": [
            "[[[0 2]\n",
            "  [1 0]]\n",
            "\n",
            " [[1 1]\n",
            "  [1 1]]]\n",
            "[[[0.         1.        ]\n",
            "  [0.33333333 0.        ]]\n",
            "\n",
            " [[0.25       0.25      ]\n",
            "  [0.2        0.2       ]]]\n"
          ],
          "name": "stdout"
        }
      ]
    },
    {
      "cell_type": "code",
      "metadata": {
        "id": "byN_vhqndvla",
        "colab_type": "code",
        "colab": {
          "base_uri": "https://localhost:8080/",
          "height": 136
        },
        "outputId": "7b59c0f4-9a3f-4c28-b7ee-899dc35e8b67"
      },
      "source": [
        "# conditional updates\n",
        "print(array_of_1d_examples == 1)\n",
        "local_array = array_of_1d_examples.copy()\n",
        "local_array[array_of_1d_examples == 1] = -1\n",
        "print(local_array)\n",
        "local_array2 = local_array\n",
        "local_array2[0, 0] = 1\n",
        "print(local_array[0, 0])"
      ],
      "execution_count": 10,
      "outputs": [
        {
          "output_type": "stream",
          "text": [
            "[[ True  True]\n",
            " [False False]\n",
            " [ True False]]\n",
            "[[-1 -1]\n",
            " [ 0  0]\n",
            " [-1  0]]\n",
            "1\n"
          ],
          "name": "stdout"
        }
      ]
    },
    {
      "cell_type": "code",
      "metadata": {
        "id": "W-xIwIjTdvlk",
        "colab_type": "code",
        "colab": {
          "base_uri": "https://localhost:8080/",
          "height": 238
        },
        "outputId": "6bbe2bb1-7d85-442c-e710-cc5823d984c0"
      },
      "source": [
        "# Some basic math functions just FYI.\n",
        "# print(array_of_1d_examples.mean(axis=1))\n",
        "# [[1 1], [0, 0]]\n",
        "# axis = 0: a = [1, 1], b = [0, 0]\n",
        "#           mean(a + b)\n",
        "# axis = 1: {(1), (1)}, {(0), (0)}\n",
        "# a0 = 1, b0 = 1, mean(a + b)\n",
        "# a1 = 0, b1 = 0, mean(a + b)\n",
        "\n",
        "print(array_of_2d_examples)\n",
        "# print(array_of_2d_examples.mean(axis=0))\n",
        "# a = [[0 2], [1 0]] \n",
        "# b = [[1 1], [1 1]]\n",
        "# mean([a, b]) = a + b / 2\n",
        "# print(array_of_2d_examples.mean(axis=1))\n",
        "# [mean([0 2], [1 0]),\n",
        "#  mean([1 1], [1 1])]\n",
        "#[[[0 2]\n",
        "# [1 0]]\n",
        "#\n",
        "# [[1 1]\n",
        "#  [1 1]]]\n",
        "# axis = 0\n",
        "# mean([[[0 2]\n",
        "#        [1 0]]\n",
        "#      [[1 1]\n",
        "#       [1 1]]])\n",
        "#\n",
        "#[mean([[0 2]\n",
        "#      [1 0]],\n",
        "# mean[[1 1]\n",
        "#      [1 1]] )] \n",
        "#\n",
        "\n",
        "#[[mean([0 2])\n",
        "#  mean([1 0])]\n",
        "#\n",
        "# [mean([1 1])\n",
        "#  [1 1]]]\n",
        "# print(array_of_2d_examples)\n",
        "# 2 x 3 x 4\n",
        "array_of_2d_examples = np.array([[[1, 2, 3, 4], [5, 6, 7, 8], [9, 10, 11, 12]], \n",
        "                                 [[11, 12, 13, 14], [15, 16, 17, 18], [19, 20, 21, 22]]])\n",
        "print(\"original\")\n",
        "print(array_of_2d_examples.shape)\n",
        "print(\"axis=0\")\n",
        "print(array_of_2d_examples.mean(axis=0).shape)\n",
        "print(\"axis=1\")\n",
        "print(array_of_2d_examples.mean(axis=1).shape)\n",
        "print(\"axis=2\")\n",
        "print(array_of_2d_examples.mean(axis=-1).shape)\n",
        "\n",
        "# t \\ signal  \n",
        "# 1 [1.2, 3.4]\n",
        "# 2 [3.2, 3.2]\n"
      ],
      "execution_count": 11,
      "outputs": [
        {
          "output_type": "stream",
          "text": [
            "[[[0 2]\n",
            "  [1 0]]\n",
            "\n",
            " [[1 1]\n",
            "  [1 1]]]\n",
            "original\n",
            "(2, 3, 4)\n",
            "axis=0\n",
            "(3, 4)\n",
            "axis=1\n",
            "(2, 4)\n",
            "axis=2\n",
            "(2, 3)\n"
          ],
          "name": "stdout"
        }
      ]
    },
    {
      "cell_type": "code",
      "metadata": {
        "id": "R8lvj3FF1RHD",
        "colab_type": "code",
        "colab": {
          "base_uri": "https://localhost:8080/",
          "height": 51
        },
        "outputId": "976e664c-70d3-48e9-c20b-49340c884b85"
      },
      "source": [
        "new_array_of_2d_examples = [[[1, 2, 3, 4], [5, 6, 7, 8], [9, 10, 11, 12]],\n",
        "                            [[13, 14, 15, 16], [17, 18, 19, 20], [21, 22, 23, 24]]]\n",
        "new_array_of_2d_examples = np.array(new_array_of_2d_examples)\n",
        "#print(new_array_of_2d_examples.mean(axis=0)) # 2 element of 3 x 4\n",
        "# avg([[1, 2, 3, 4], [5, 6, 7, 8], [9, 10, 11, 12]],\n",
        "#     [[13, 14, 15, 16], [17, 18, 19, 20], [21, 22, 23, 24]])\n",
        "#print(new_array_of_2d_examples.mean(axis=1)) \n",
        "# [avg([[1, 2, 3, 4], [5, 6, 7, 8], [9, 10, 11, 12]]), # 3 elements of 4\n",
        "#  avg([[13, 14, 15, 16], [17, 18, 19, 20], [21, 22, 23, 24]])]\n",
        "print(new_array_of_2d_examples.mean(axis=2))\n",
        "# [([avg([1, 2, 3, 4]), [5, 6, 7, 8], [9, 10, 11, 12]]), # 3 elements of 4\n",
        "#  ([[13, 14, 15, 16], [17, 18, 19, 20], [21, 22, 23, 24]])]\n"
      ],
      "execution_count": 12,
      "outputs": [
        {
          "output_type": "stream",
          "text": [
            "[[ 2.5  6.5 10.5]\n",
            " [14.5 18.5 22.5]]\n"
          ],
          "name": "stdout"
        }
      ]
    },
    {
      "cell_type": "code",
      "metadata": {
        "id": "P2-S9FuAdvlt",
        "colab_type": "code",
        "colab": {
          "base_uri": "https://localhost:8080/",
          "height": 530
        },
        "outputId": "f553556b-08ce-45f4-fee8-00f2cfb63f26"
      },
      "source": [
        "# Pandas DataFrame: data + metadata\n",
        "import pandas as pd\n",
        "import requests\n",
        "result = requests.get('https://archive.ics.uci.edu/ml/machine-learning-databases/car/car.c45-names')\n",
        "def get_column_names(content):\n",
        "  features = []\n",
        "  for line in content.decode().split(\"\\n\"):\n",
        "    parts = line.split(\":\")\n",
        "    if len(parts) == 2: \n",
        "      features.append(parts[0])\n",
        "  return features + [\"classes\"]\n",
        "df = pd.read_csv('https://archive.ics.uci.edu/ml/machine-learning-databases/car/car.data',\n",
        "                 header=None,\n",
        "                 names=get_column_names(result.content))\n",
        "display('df:\\n', df[:10])\n",
        "print(\"type(df.keys) is \", type(df.keys))\n",
        "print(\"type(df.values) is \", type(df.values))\n",
        "print(df.values)"
      ],
      "execution_count": 22,
      "outputs": [
        {
          "output_type": "display_data",
          "data": {
            "application/vnd.google.colaboratory.intrinsic+json": {
              "type": "string"
            },
            "text/plain": [
              "'df:\\n'"
            ]
          },
          "metadata": {
            "tags": []
          }
        },
        {
          "output_type": "display_data",
          "data": {
            "text/html": [
              "<div>\n",
              "<style scoped>\n",
              "    .dataframe tbody tr th:only-of-type {\n",
              "        vertical-align: middle;\n",
              "    }\n",
              "\n",
              "    .dataframe tbody tr th {\n",
              "        vertical-align: top;\n",
              "    }\n",
              "\n",
              "    .dataframe thead th {\n",
              "        text-align: right;\n",
              "    }\n",
              "</style>\n",
              "<table border=\"1\" class=\"dataframe\">\n",
              "  <thead>\n",
              "    <tr style=\"text-align: right;\">\n",
              "      <th></th>\n",
              "      <th>buying</th>\n",
              "      <th>maint</th>\n",
              "      <th>doors</th>\n",
              "      <th>persons</th>\n",
              "      <th>lug_boot</th>\n",
              "      <th>safety</th>\n",
              "      <th>classes</th>\n",
              "    </tr>\n",
              "  </thead>\n",
              "  <tbody>\n",
              "    <tr>\n",
              "      <th>0</th>\n",
              "      <td>vhigh</td>\n",
              "      <td>vhigh</td>\n",
              "      <td>2</td>\n",
              "      <td>2</td>\n",
              "      <td>small</td>\n",
              "      <td>low</td>\n",
              "      <td>unacc</td>\n",
              "    </tr>\n",
              "    <tr>\n",
              "      <th>1</th>\n",
              "      <td>vhigh</td>\n",
              "      <td>vhigh</td>\n",
              "      <td>2</td>\n",
              "      <td>2</td>\n",
              "      <td>small</td>\n",
              "      <td>med</td>\n",
              "      <td>unacc</td>\n",
              "    </tr>\n",
              "    <tr>\n",
              "      <th>2</th>\n",
              "      <td>vhigh</td>\n",
              "      <td>vhigh</td>\n",
              "      <td>2</td>\n",
              "      <td>2</td>\n",
              "      <td>small</td>\n",
              "      <td>high</td>\n",
              "      <td>unacc</td>\n",
              "    </tr>\n",
              "    <tr>\n",
              "      <th>3</th>\n",
              "      <td>vhigh</td>\n",
              "      <td>vhigh</td>\n",
              "      <td>2</td>\n",
              "      <td>2</td>\n",
              "      <td>med</td>\n",
              "      <td>low</td>\n",
              "      <td>unacc</td>\n",
              "    </tr>\n",
              "    <tr>\n",
              "      <th>4</th>\n",
              "      <td>vhigh</td>\n",
              "      <td>vhigh</td>\n",
              "      <td>2</td>\n",
              "      <td>2</td>\n",
              "      <td>med</td>\n",
              "      <td>med</td>\n",
              "      <td>unacc</td>\n",
              "    </tr>\n",
              "    <tr>\n",
              "      <th>5</th>\n",
              "      <td>vhigh</td>\n",
              "      <td>vhigh</td>\n",
              "      <td>2</td>\n",
              "      <td>2</td>\n",
              "      <td>med</td>\n",
              "      <td>high</td>\n",
              "      <td>unacc</td>\n",
              "    </tr>\n",
              "    <tr>\n",
              "      <th>6</th>\n",
              "      <td>vhigh</td>\n",
              "      <td>vhigh</td>\n",
              "      <td>2</td>\n",
              "      <td>2</td>\n",
              "      <td>big</td>\n",
              "      <td>low</td>\n",
              "      <td>unacc</td>\n",
              "    </tr>\n",
              "    <tr>\n",
              "      <th>7</th>\n",
              "      <td>vhigh</td>\n",
              "      <td>vhigh</td>\n",
              "      <td>2</td>\n",
              "      <td>2</td>\n",
              "      <td>big</td>\n",
              "      <td>med</td>\n",
              "      <td>unacc</td>\n",
              "    </tr>\n",
              "    <tr>\n",
              "      <th>8</th>\n",
              "      <td>vhigh</td>\n",
              "      <td>vhigh</td>\n",
              "      <td>2</td>\n",
              "      <td>2</td>\n",
              "      <td>big</td>\n",
              "      <td>high</td>\n",
              "      <td>unacc</td>\n",
              "    </tr>\n",
              "    <tr>\n",
              "      <th>9</th>\n",
              "      <td>vhigh</td>\n",
              "      <td>vhigh</td>\n",
              "      <td>2</td>\n",
              "      <td>4</td>\n",
              "      <td>small</td>\n",
              "      <td>low</td>\n",
              "      <td>unacc</td>\n",
              "    </tr>\n",
              "  </tbody>\n",
              "</table>\n",
              "</div>"
            ],
            "text/plain": [
              "  buying  maint doors persons lug_boot safety classes\n",
              "0  vhigh  vhigh     2       2    small    low   unacc\n",
              "1  vhigh  vhigh     2       2    small    med   unacc\n",
              "2  vhigh  vhigh     2       2    small   high   unacc\n",
              "3  vhigh  vhigh     2       2      med    low   unacc\n",
              "4  vhigh  vhigh     2       2      med    med   unacc\n",
              "5  vhigh  vhigh     2       2      med   high   unacc\n",
              "6  vhigh  vhigh     2       2      big    low   unacc\n",
              "7  vhigh  vhigh     2       2      big    med   unacc\n",
              "8  vhigh  vhigh     2       2      big   high   unacc\n",
              "9  vhigh  vhigh     2       4    small    low   unacc"
            ]
          },
          "metadata": {
            "tags": []
          }
        },
        {
          "output_type": "stream",
          "text": [
            "type(df.keys) is  <class 'method'>\n",
            "type(df.values) is  <class 'numpy.ndarray'>\n",
            "[['vhigh' 'vhigh' '2' ... 'small' 'low' 'unacc']\n",
            " ['vhigh' 'vhigh' '2' ... 'small' 'med' 'unacc']\n",
            " ['vhigh' 'vhigh' '2' ... 'small' 'high' 'unacc']\n",
            " ...\n",
            " ['low' 'low' '5more' ... 'big' 'low' 'unacc']\n",
            " ['low' 'low' '5more' ... 'big' 'med' 'good']\n",
            " ['low' 'low' '5more' ... 'big' 'high' 'vgood']]\n"
          ],
          "name": "stdout"
        }
      ]
    },
    {
      "cell_type": "code",
      "metadata": {
        "id": "-fYEWI3idvl1",
        "colab_type": "code",
        "colab": {
          "base_uri": "https://localhost:8080/",
          "height": 204
        },
        "outputId": "47f9cf44-8b81-4790-95f5-b73e453d51a7"
      },
      "source": [
        "# Convert data to numerical form for them to make sense\n",
        "mapping = {'small': 1, 'med': 2, 'big': 3}\n",
        "df = df.replace({'lug_boot': mapping})\n",
        "\n",
        "display(df[:10])"
      ],
      "execution_count": 24,
      "outputs": [
        {
          "output_type": "stream",
          "text": [
            "  buying  maint doors persons  lug_boot safety classes\n",
            "0  vhigh  vhigh     2       2         1    low   unacc\n",
            "1  vhigh  vhigh     2       2         1    med   unacc\n",
            "2  vhigh  vhigh     2       2         1   high   unacc\n",
            "3  vhigh  vhigh     2       2         2    low   unacc\n",
            "4  vhigh  vhigh     2       2         2    med   unacc\n",
            "5  vhigh  vhigh     2       2         2   high   unacc\n",
            "6  vhigh  vhigh     2       2         3    low   unacc\n",
            "7  vhigh  vhigh     2       2         3    med   unacc\n",
            "8  vhigh  vhigh     2       2         3   high   unacc\n",
            "9  vhigh  vhigh     2       4         1    low   unacc\n"
          ],
          "name": "stdout"
        }
      ]
    },
    {
      "cell_type": "code",
      "metadata": {
        "id": "HF6Cx7YJBW11",
        "colab_type": "code",
        "colab": {
          "base_uri": "https://localhost:8080/",
          "height": 359
        },
        "outputId": "a14e8021-67cb-44cf-881a-f7d76b5d3b0f"
      },
      "source": [
        "# Shuffle your data for better randomenss.\n",
        "from sklearn.utils import shuffle\n",
        "df = shuffle(df)\n",
        "display(df[:10])"
      ],
      "execution_count": 30,
      "outputs": [
        {
          "output_type": "display_data",
          "data": {
            "text/html": [
              "<div>\n",
              "<style scoped>\n",
              "    .dataframe tbody tr th:only-of-type {\n",
              "        vertical-align: middle;\n",
              "    }\n",
              "\n",
              "    .dataframe tbody tr th {\n",
              "        vertical-align: top;\n",
              "    }\n",
              "\n",
              "    .dataframe thead th {\n",
              "        text-align: right;\n",
              "    }\n",
              "</style>\n",
              "<table border=\"1\" class=\"dataframe\">\n",
              "  <thead>\n",
              "    <tr style=\"text-align: right;\">\n",
              "      <th></th>\n",
              "      <th>buying</th>\n",
              "      <th>maint</th>\n",
              "      <th>doors</th>\n",
              "      <th>persons</th>\n",
              "      <th>lug_boot</th>\n",
              "      <th>safety</th>\n",
              "      <th>classes</th>\n",
              "    </tr>\n",
              "  </thead>\n",
              "  <tbody>\n",
              "    <tr>\n",
              "      <th>457</th>\n",
              "      <td>high</td>\n",
              "      <td>vhigh</td>\n",
              "      <td>2</td>\n",
              "      <td>more</td>\n",
              "      <td>3</td>\n",
              "      <td>med</td>\n",
              "      <td>unacc</td>\n",
              "    </tr>\n",
              "    <tr>\n",
              "      <th>1466</th>\n",
              "      <td>low</td>\n",
              "      <td>high</td>\n",
              "      <td>4</td>\n",
              "      <td>2</td>\n",
              "      <td>3</td>\n",
              "      <td>high</td>\n",
              "      <td>unacc</td>\n",
              "    </tr>\n",
              "    <tr>\n",
              "      <th>120</th>\n",
              "      <td>vhigh</td>\n",
              "      <td>high</td>\n",
              "      <td>2</td>\n",
              "      <td>4</td>\n",
              "      <td>2</td>\n",
              "      <td>low</td>\n",
              "      <td>unacc</td>\n",
              "    </tr>\n",
              "    <tr>\n",
              "      <th>962</th>\n",
              "      <td>med</td>\n",
              "      <td>vhigh</td>\n",
              "      <td>5more</td>\n",
              "      <td>4</td>\n",
              "      <td>3</td>\n",
              "      <td>high</td>\n",
              "      <td>acc</td>\n",
              "    </tr>\n",
              "    <tr>\n",
              "      <th>563</th>\n",
              "      <td>high</td>\n",
              "      <td>high</td>\n",
              "      <td>2</td>\n",
              "      <td>more</td>\n",
              "      <td>2</td>\n",
              "      <td>high</td>\n",
              "      <td>acc</td>\n",
              "    </tr>\n",
              "    <tr>\n",
              "      <th>766</th>\n",
              "      <td>high</td>\n",
              "      <td>low</td>\n",
              "      <td>2</td>\n",
              "      <td>4</td>\n",
              "      <td>1</td>\n",
              "      <td>med</td>\n",
              "      <td>unacc</td>\n",
              "    </tr>\n",
              "    <tr>\n",
              "      <th>1416</th>\n",
              "      <td>low</td>\n",
              "      <td>high</td>\n",
              "      <td>2</td>\n",
              "      <td>4</td>\n",
              "      <td>2</td>\n",
              "      <td>low</td>\n",
              "      <td>unacc</td>\n",
              "    </tr>\n",
              "    <tr>\n",
              "      <th>341</th>\n",
              "      <td>vhigh</td>\n",
              "      <td>low</td>\n",
              "      <td>2</td>\n",
              "      <td>4</td>\n",
              "      <td>3</td>\n",
              "      <td>high</td>\n",
              "      <td>acc</td>\n",
              "    </tr>\n",
              "    <tr>\n",
              "      <th>290</th>\n",
              "      <td>vhigh</td>\n",
              "      <td>med</td>\n",
              "      <td>4</td>\n",
              "      <td>more</td>\n",
              "      <td>1</td>\n",
              "      <td>high</td>\n",
              "      <td>acc</td>\n",
              "    </tr>\n",
              "    <tr>\n",
              "      <th>474</th>\n",
              "      <td>high</td>\n",
              "      <td>vhigh</td>\n",
              "      <td>3</td>\n",
              "      <td>4</td>\n",
              "      <td>3</td>\n",
              "      <td>low</td>\n",
              "      <td>unacc</td>\n",
              "    </tr>\n",
              "  </tbody>\n",
              "</table>\n",
              "</div>"
            ],
            "text/plain": [
              "     buying  maint  doors persons  lug_boot safety classes\n",
              "457    high  vhigh      2    more         3    med   unacc\n",
              "1466    low   high      4       2         3   high   unacc\n",
              "120   vhigh   high      2       4         2    low   unacc\n",
              "962     med  vhigh  5more       4         3   high     acc\n",
              "563    high   high      2    more         2   high     acc\n",
              "766    high    low      2       4         1    med   unacc\n",
              "1416    low   high      2       4         2    low   unacc\n",
              "341   vhigh    low      2       4         3   high     acc\n",
              "290   vhigh    med      4    more         1   high     acc\n",
              "474    high  vhigh      3       4         3    low   unacc"
            ]
          },
          "metadata": {
            "tags": []
          }
        }
      ]
    },
    {
      "cell_type": "code",
      "metadata": {
        "id": "lKcehe8iBx8-",
        "colab_type": "code",
        "colab": {
          "base_uri": "https://localhost:8080/",
          "height": 238
        },
        "outputId": "349add6c-a03e-4b83-977e-b66ec2e9b8c2"
      },
      "source": [
        "# Count numbers of cars with buying=high\n",
        "print(df['buying'] == 'high')\n",
        "print(\"# buying = high: \", len(df[df['buying'] == 'high']))"
      ],
      "execution_count": 33,
      "outputs": [
        {
          "output_type": "stream",
          "text": [
            "457      True\n",
            "1466    False\n",
            "120     False\n",
            "962     False\n",
            "563      True\n",
            "        ...  \n",
            "1603    False\n",
            "721      True\n",
            "1695    False\n",
            "6       False\n",
            "1001    False\n",
            "Name: buying, Length: 1728, dtype: bool\n",
            "# buying = high:  432\n"
          ],
          "name": "stdout"
        }
      ]
    },
    {
      "cell_type": "markdown",
      "metadata": {
        "id": "sZR9w0lmAIVw",
        "colab_type": "text"
      },
      "source": [
        "## In-class Exercises"
      ]
    },
    {
      "cell_type": "code",
      "metadata": {
        "id": "wO_q19L8d-r0",
        "colab_type": "code",
        "colab": {
          "base_uri": "https://localhost:8080/",
          "height": 51
        },
        "outputId": "9a0c80d8-0176-4630-cba2-d8ba4d7010fe"
      },
      "source": [
        "# Q1: given the follow np.array,\n",
        "a = np.array([[1.0, 2.0, 5.0], [2.0, 4.0, 5.0]])\n",
        "# we can get the mean of all elements by the following code.\n",
        "print(a.mean()) \n",
        "# how do we get the mean of each row? (expected answer: [2.66666667 3.66666667])\n",
        "# YOUR ANSWER HERE\n",
        "\n",
        "# Q1 advance: can you get the mean of each column?\n",
        "# YOUR ANSWER HERE\n",
        "\n",
        "# Q2: for each `buying` value, get the number of occurrence of this value in the table.\n",
        "# YOUR ANSWER HERE\n"
      ],
      "execution_count": 29,
      "outputs": [
        {
          "output_type": "stream",
          "text": [
            "3.1666666666666665\n",
            "[2.66666667 3.66666667]\n"
          ],
          "name": "stdout"
        }
      ]
    }
  ]
}